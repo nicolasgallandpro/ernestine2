{
 "cells": [
  {
   "cell_type": "code",
   "execution_count": null,
   "id": "749b4c72-d702-4525-a3c4-8ac68baa6164",
   "metadata": {},
   "outputs": [],
   "source": [
    "!pip install art feedparser redis\n",
    "!pip install beautifulsoup4\n"
   ]
  },
  {
   "cell_type": "code",
   "execution_count": 1,
   "id": "119b7623-cc7b-4bbd-85c1-1dfa45bce282",
   "metadata": {},
   "outputs": [],
   "source": [
    "import sys\n",
    "# insert at 1, 0 is the script path (or '' in REPL)\n",
    "sys.path.insert(1, '/workspace/ernestine2/sources')\n",
    "from rsc import RSC\n",
    "from generate_static import create_page"
   ]
  },
  {
   "cell_type": "code",
   "execution_count": 2,
   "id": "b0c7668e-814e-47a2-a3f5-5900bdd63833",
   "metadata": {},
   "outputs": [
    {
     "name": "stdout",
     "output_type": "stream",
     "text": [
      "input https://www.off-investigation.fr/feed/\n",
      "input inputhttps://www.bastamag.net/spip.php?page=backend\n",
      "input  input https://www.youtube.com/channel/UCQgWpmt02UtJkyO32HGUASQ\n",
      "https://reporterre.net/spip.php?page=backend-simplehttps://lagedefaire-lejournal.fr/feed/\n",
      "input https://www.youtube.com/channel/UCVeMw72tepFl1Zt5fvf9QKQ\n",
      "\n",
      "input https://la-bas.org/spip.php?page=backend\n",
      "input https://lvsl.fr/feed/input https://theconversation.com/fr/articles.atom\n",
      "\n",
      "input https://theconversation.com/ca-fr/home-page/articles.atom\n",
      "input https://www.acrimed.org/spip.php?page=backend\n",
      "input https://www.institut-rousseau.fr/feed/\n",
      "input https://www.fakirpresse.info/spip.php?page=backend\n",
      "input https://www.heidi.news/articles.rss\n",
      "input https://reflets.info/feeds/publicinput \n",
      "https://www.lesnouvellesnews.fr/feed\n",
      "input https://lesjours.fr/rss.xml\n",
      "input https://rapportsdeforce.fr/feed\n",
      "input https://radioparleur.net/feed/\n",
      "input https://multinationales.org/spip.php?page=backend\n",
      "input https://www.alternatives-economiques.fr/rss.xml\n",
      "input https://www.mediapart.fr/articles/feed\n",
      "input https://backend.streetpress.com/rss.xml\n",
      "input https://api.blast-info.fr/rss.xml\n",
      "input https://api.arretsurimages.net/api/public/rss/all-content\n",
      "input https://www.mediacites.fr/feed/\n",
      "input https://www.bondyblog.fr/feed/\n",
      "input https://www.monde-diplomatique.fr/rss/\n",
      "input https://afriquexxi.info/?page=backend&lang=fr\n",
      "input https://guitinews.fr/feed/\n",
      "input input https://mrmondialisation.org/feed/\n",
      "inputhttps://www.youtube.com/channel/UC2ijB3_Fg2pIW1g6FeIiYKA\n",
      " https://up-magazine.info/feed/\n",
      "input https://predictalab.medium.com/feed\n",
      "input https://www.youtube.com/playlist?list=PLIVcDWpMT7KfTCsp2It3EVmMwG2C7CfPf\n",
      "input https://feeds.acast.com/public/shows/in-extenso\n",
      "input https://www.youtube.com/channel/UCBiAHZy9Gghpt0JyDaz3SYw\n",
      "input https://themarkup.org/feeds/rss.xml\n",
      "input https://www.youtube.com/channel/UC2ijB3_Fg2pIW1g6FeIiYKA\n"
     ]
    },
    {
     "name": "stderr",
     "output_type": "stream",
     "text": [
      "ERROR:root:https://lagedefaire-lejournal.fr/feed/: ConnectTimeout.\n"
     ]
    },
    {
     "name": "stdout",
     "output_type": "stream",
     "text": [
      "input https://feeds.feedburner.com/pudding/feed\n",
      "input https://poliverse.fr/index.xml\n",
      "try to add image\n",
      "found in cache :  https://static.mediapart.fr/etmagine/og/journal/files/2022/05/14/000-324m4z6.jpg\n",
      "try to add image\n",
      "found in cache :  https://mrmondialisation.org/wp-content/uploads/2022/05/amsterdam-photo-en-tete-1.jpg\n",
      "try to add image\n",
      "found in cache :  https://lesjours.fr/ressources/opengraph/image/ep132-leyla-mccalla-atis-indepandan-img-header.jpeg\n",
      "try to add image\n",
      "found in cache :  https://static.mediapart.fr/etmagine/og/journal/files/2022/05/13/20220513-img-violences-la-sortie-de-l-hopital-du-cercueil-de-la-journaliste-palestinienne-1.jpg\n",
      "try to add image\n",
      "found in cache :  https://static.mediapart.fr/etmagine/og/journal/files/2022/05/14/img-140522-dans-les-petites-villes-polonaises-la-societe-civile-au-chevet-des-refugies-ukrainiens7.jpg\n",
      "try to add image\n",
      "found in cache :  https://i.ytimg.com/vi/_hfRevi0odM/hqdefault.jpg\n",
      "try to add image\n",
      "found in cache :  https://i.ytimg.com/vi/_hfRevi0odM/hqdefault.jpg\n",
      "try to add image\n",
      "found in cache :  https://www.monde-diplomatique.fr/local/couv/1992-02-r.jpg\n",
      "try to add image\n",
      "found in cache :  https://static.mediapart.fr/etmagine/og/journal/files/2022/05/14/tremblay.jpg\n",
      "try to add image\n",
      "found in cache :  https://static.mediapart.fr/etmagine/og/journal/files/2022/05/13/20220513-img-avant-les-legislatives-les-jeunes-libanais-divises-sur-la-possibilite-de-changement-1.jpg\n",
      "try to add image\n",
      "found in cache :  https://i.ytimg.com/vi/JeWoUOdgyFQ/maxresdefault.jpg\n",
      "try to add image\n",
      "found in cache :  https://i.ytimg.com/vi/BTARx9AB0ws/hqdefault.jpg\n",
      "try to add image\n",
      "found in cache :  https://i.ytimg.com/vi/BTARx9AB0ws/hqdefault.jpg\n",
      "try to add image\n",
      "found in cache :  https://static.mediapart.fr/etmagine/og/journal/files/2022/05/12/capture-d-e-cran-2022-05-12-a-16-15-04.png\n",
      "try to add image\n",
      "found in cache :  https://reporterre.net/local/cache-gd2/4c/dd41b4ce3149298474fcaa6d703015.jpg?1652451484\n",
      "try to add image\n",
      "found in cache :  https://reporterre.net/local/cache-gd2/95/35f50b825e91fbb55eabd45c8813ad.jpg?1652453088\n",
      "try to add image\n",
      "found in cache :  https://reporterre.net/local/cache-gd2/22/3d5d470b940f0ae3ac80cd3c317960.jpg?1652456817\n",
      "try to add image\n",
      "found in cache :  https://api.arretsurimages.net/api/public/media/2022-05-13-jlou-musk/action/show?format=thumbnail&t=2022-05-13T14:37:30+02:00\n",
      "try to add image\n",
      "found in cache :  https://static.mediapart.fr/etmagine/og/journal/files/2022/03/12/bac-xose-bouzas-hans-lucas-hans-lucas-via-afp.jpg\n",
      "try to add image\n",
      "found in cache :  https://heidi-17455.kxcdn.com/photos/0c0eed1d-905c-4dd2-b883-93a7339cf607/medium\n",
      "try to add image\n",
      "found in cache :  https://heidi-17455.kxcdn.com/photos/be68bbf2-257f-4164-b7cc-819a1a00f871/medium\n",
      "try to add image\n",
      "found in cache :  https://www.alternatives-economiques.fr/sites/default/files/public/styles/for_social_networks/public/field/image/letexier_08_05_2022_0.jpg?itok=3REeLrq-\n",
      "try to add image\n",
      "found in cache :  https://www.alternatives-economiques.fr/sites/default/files/public/styles/for_social_networks/public/field/image/3films_14_05_22.jpg?itok=d_CqjdXR\n",
      "try to add image\n",
      "found in cache :  https://www.alternatives-economiques.fr/sites/default/files/public/styles/for_social_networks/public/field/image/sociorama_45.jpg?itok=6frzkBoj\n",
      "try to add image\n",
      "found in cache :  https://www.alternatives-economiques.fr/sites/default/files/public/styles/for_social_networks/public/field/image/hs125_pertes-et-profits_extrait.jpg?itok=SowEnhY9\n"
     ]
    }
   ],
   "source": [
    "p = RSC(\"https://raw.githubusercontent.com/nicolasgallandpro/ernestine-data/main/medias_indeps.rsc\")\n",
    "p.fill_rsc() "
   ]
  },
  {
   "cell_type": "code",
   "execution_count": 3,
   "id": "702aa235-05bd-43c0-9708-3669ebf1446e",
   "metadata": {},
   "outputs": [],
   "source": [
    "html = create_page(p, \"/workspace/ernestine2/static_v1/output/index2.html\", show_categories=False)\n",
    "\n",
    "f = open(\"/workspace/ernestine2/static_v1/output/index.json\", \"w\")\n",
    "f.write(p.to_json())\n",
    "f.close()\n",
    "#html_science = create_page(\"https://raw.githubusercontent.com/nicolasgallandpro/ernestine-data/main/science.rsc\", \\\n",
    "#            \"/workspace/ernestine2/static_v1/output/science.html\", show_categories=False)\n",
    "\n",
    "#temp = create_page(\"https://raw.githubusercontent.com/nicolasgallandpro/ernestine-data/main/tribunes.rsc\", \\\n",
    "#            \"/workspace/ernestine2/static_v1/output/tribunes.html\", show_categories=False)\n",
    "\n",
    "#temp = create_page(\"https://raw.githubusercontent.com/nicolasgallandpro/ernestine-data/main/fact_checking.rsc\", \\\n",
    "#            \"/workspace/ernestine2/static_v1/output/fact_checking.html\", show_categories=False)\n"
   ]
  },
  {
   "cell_type": "code",
   "execution_count": null,
   "id": "983759d3-fc47-4016-9c96-1dc85350c945",
   "metadata": {},
   "outputs": [],
   "source": [
    "#temp = create_page(\"https://raw.githubusercontent.com/nicolasgallandpro/ernestine2/main/input/dataviz.rsc\", \\\n",
    "#            \"/workspace/ernestine2/static_v1/output/dataviz.html\", show_categories=False)\n"
   ]
  },
  {
   "cell_type": "code",
   "execution_count": null,
   "id": "1ae44a9d-95ee-451c-a848-9aa7a9a9f4d9",
   "metadata": {},
   "outputs": [],
   "source": [
    "import dagstermill, requests\n",
    "requests.get('https://hc-ping.com/56d92aab-b3b4-407c-b854-4c6e2db4b194') #healthchecks.io\n",
    "dagstermill.yield_result(\"ok\")"
   ]
  },
  {
   "cell_type": "code",
   "execution_count": null,
   "id": "16c6e86e-1019-42d8-b40f-d5f8f2b351d0",
   "metadata": {},
   "outputs": [],
   "source": []
  }
 ],
 "metadata": {
  "kernelspec": {
   "display_name": "Python 3 (ipykernel)",
   "language": "python",
   "name": "python3"
  },
  "language_info": {
   "codemirror_mode": {
    "name": "ipython",
    "version": 3
   },
   "file_extension": ".py",
   "mimetype": "text/x-python",
   "name": "python",
   "nbconvert_exporter": "python",
   "pygments_lexer": "ipython3",
   "version": "3.10.2"
  }
 },
 "nbformat": 4,
 "nbformat_minor": 5
}
