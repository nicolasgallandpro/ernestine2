{
 "cells": [
  {
   "cell_type": "code",
   "execution_count": 1,
   "id": "749b4c72-d702-4525-a3c4-8ac68baa6164",
   "metadata": {},
   "outputs": [
    {
     "name": "stdout",
     "output_type": "stream",
     "text": [
      "inputinput https://www.bastamag.net/spip.php?page=backend\n",
      " https://www.off-investigation.fr/feed/\n",
      "input https://lagedefaire-lejournal.fr/feed/\n",
      "input https://reporterre.net/spip.php?page=backend-simple\n",
      "inputinput https://www.youtube.com/channel/UCVeMw72tepFl1Zt5fvf9QKQ\n",
      " https://www.youtube.com/channel/UCQgWpmt02UtJkyO32HGUASQ\n",
      "input https://la-bas.org/spip.php?page=backend\n",
      "input https://lvsl.fr/feed/\n",
      "input https://theconversation.com/fr/articles.atom\n",
      "input https://theconversation.com/ca-fr/home-page/articles.atom\n",
      "input https://www.acrimed.org/spip.php?page=backend\n",
      "input https://www.institut-rousseau.fr/feed/\n",
      "input https://www.fakirpresse.info/spip.php?page=backend\n",
      "input https://www.heidi.news/articles.rss\n",
      "input input https://www.lesnouvellesnews.fr/feed\n",
      "https://reflets.info/feeds/public\n",
      "input https://lesjours.fr/rss.xml\n",
      "input https://rapportsdeforce.fr/feed\n",
      "input https://radioparleur.net/feed/\n",
      "input https://multinationales.org/spip.php?page=backend\n",
      "input https://www.alternatives-economiques.fr/rss.xml\n",
      "input https://www.mediapart.fr/articles/feed\n",
      "input https://backend.streetpress.com/rss.xml\n",
      "input https://api.blast-info.fr/rss.xml\n",
      "input https://api.arretsurimages.net/api/public/rss/all-content\n",
      "input https://www.mediacites.fr/feed/\n",
      "input https://www.bondyblog.fr/feed/\n",
      "input https://www.monde-diplomatique.fr/rss/\n",
      "input https://afriquexxi.info/?page=backend&lang=fr\n",
      "input https://guitinews.fr/feed/\n",
      "input https://www.youtube.com/channel/UC2ijB3_Fg2pIW1g6FeIiYKA\n",
      "input https://mrmondialisation.org/feed/\n",
      "input https://up-magazine.info/feed/\n",
      "input https://predictalab.medium.com/feed\n",
      "input https://www.youtube.com/playlist?list=PLIVcDWpMT7KfTCsp2It3EVmMwG2C7CfPf\n"
     ]
    },
    {
     "name": "stderr",
     "output_type": "stream",
     "text": [
      "ERROR:root:https://lagedefaire-lejournal.fr/feed/: ConnectTimeout.\n"
     ]
    },
    {
     "name": "stdout",
     "output_type": "stream",
     "text": [
      "inputinput https://www.lemonde.fr/pixels/rss_full.xml\n",
      " https://www.lemonde.fr/planete/rss_full.xml\n",
      "input https://www.youtube.com/channel/UCU0FhLr6fr7U9GOn6OiQHpQ\n",
      "input https://www.youtube.com/channel/UC3E2DhYIqnoc6H3WXwTVnlA\n",
      "input inputhttps://www.statnews.com/feed/\n",
      " https://www.lemonde.fr/blog/realitesbiomedicales/feed/\n",
      "input https://rss.nytimes.com/services/xml/rss/nyt/Science.xml\n",
      "input http://radiofrance-podcast.net/podcast09/rss_14312.xml\n",
      "inputinput input https://theconversation.com/fr/articles.atom\n",
      " http://radiofrance-podcast.net/podcast09/rss_20902.xml\n",
      "input https://theconversation.com/ca-fr/home-page/articles.atom\n",
      "googlenews-fr-fr: paléoanthropologie\n",
      "input https://theconversation.com/us/home-page/articles.atom\n"
     ]
    }
   ],
   "source": [
    "#!pip install art feedparser redis\n",
    "import sys\n",
    "# insert at 1, 0 is the script path (or '' in REPL)\n",
    "sys.path.insert(1, '/workspace/ernestine2/sources')\n",
    "from generate_static import create_page"
   ]
  },
  {
   "cell_type": "code",
   "execution_count": null,
   "id": "526e9a2f-a575-499a-a191-7e5f059d7c2b",
   "metadata": {},
   "outputs": [],
   "source": [
    "\n"
   ]
  },
  {
   "cell_type": "code",
   "execution_count": null,
   "id": "b0c7668e-814e-47a2-a3f5-5900bdd63833",
   "metadata": {},
   "outputs": [],
   "source": [
    "create_page(\"https://raw.githubusercontent.com/nicolasgallandpro/ernestine-data/main/medias_indeps.rsc\", \\\n",
    "            \"/workspace/ernestine2/static_v1/output/index.html\", show_categories=False)\n",
    "\n",
    "create_page(\"https://raw.githubusercontent.com/nicolasgallandpro/ernestine-data/main/science.rsc\", \\\n",
    "            \"/workspace/ernestine2/static_v1/output/science.html\", show_categories=False)"
   ]
  },
  {
   "cell_type": "code",
   "execution_count": null,
   "id": "1ae44a9d-95ee-451c-a848-9aa7a9a9f4d9",
   "metadata": {},
   "outputs": [],
   "source": [
    "import dagstermill, requests\n",
    "requests.get('https://hc-ping.com/56d92aab-b3b4-407c-b854-4c6e2db4b194') #healthchecks.io\n",
    "dagstermill.yield_result(\"ok\")"
   ]
  }
 ],
 "metadata": {
  "kernelspec": {
   "display_name": "Python 3 (ipykernel)",
   "language": "python",
   "name": "python3"
  },
  "language_info": {
   "codemirror_mode": {
    "name": "ipython",
    "version": 3
   },
   "file_extension": ".py",
   "mimetype": "text/x-python",
   "name": "python",
   "nbconvert_exporter": "python",
   "pygments_lexer": "ipython3",
   "version": "3.10.2"
  }
 },
 "nbformat": 4,
 "nbformat_minor": 5
}
