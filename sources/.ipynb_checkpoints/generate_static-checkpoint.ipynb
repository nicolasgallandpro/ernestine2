{
 "cells": [
  {
   "cell_type": "code",
   "execution_count": 1,
   "id": "749b4c72-d702-4525-a3c4-8ac68baa6164",
   "metadata": {},
   "outputs": [
    {
     "name": "stdout",
     "output_type": "stream",
     "text": [
      "Requirement already satisfied: art in /usr/local/lib/python3.10/site-packages (5.5)\n",
      "Requirement already satisfied: feedparser in /usr/local/lib/python3.10/site-packages (6.0.8)\n",
      "Requirement already satisfied: redis in /usr/local/lib/python3.10/site-packages (4.2.0)\n",
      "Requirement already satisfied: sgmllib3k in /usr/local/lib/python3.10/site-packages (from feedparser) (1.0.0)\n",
      "Requirement already satisfied: typing-extensions in /usr/local/lib/python3.10/site-packages (from redis) (4.1.1)\n",
      "Requirement already satisfied: packaging>=20.4 in /usr/local/lib/python3.10/site-packages (from redis) (21.3)\n",
      "Requirement already satisfied: deprecated>=1.2.3 in /usr/local/lib/python3.10/site-packages (from redis) (1.2.13)\n",
      "Requirement already satisfied: async-timeout>=4.0.2 in /usr/local/lib/python3.10/site-packages (from redis) (4.0.2)\n",
      "Requirement already satisfied: wrapt<2,>=1.10 in /usr/local/lib/python3.10/site-packages (from deprecated>=1.2.3->redis) (1.14.0)\n",
      "Requirement already satisfied: pyparsing!=3.0.5,>=2.0.2 in /usr/local/lib/python3.10/site-packages (from packaging>=20.4->redis) (3.0.7)\n",
      "\u001b[33mWARNING: Running pip as the 'root' user can result in broken permissions and conflicting behaviour with the system package manager. It is recommended to use a virtual environment instead: https://pip.pypa.io/warnings/venv\u001b[0m\n",
      "\u001b[33mWARNING: You are using pip version 21.2.4; however, version 22.0.4 is available.\n",
      "You should consider upgrading via the '/usr/local/bin/python -m pip install --upgrade pip' command.\u001b[0m\n"
     ]
    }
   ],
   "source": [
    "!pip install art feedparser redis\n",
    "import sys\n",
    "# insert at 1, 0 is the script path (or '' in REPL)\n",
    "sys.path.insert(1, '/workspace/ernestine2/sources')\n",
    "from generate_static import create_page"
   ]
  },
  {
   "cell_type": "code",
   "execution_count": 2,
   "id": "b0c7668e-814e-47a2-a3f5-5900bdd63833",
   "metadata": {},
   "outputs": [
    {
     "name": "stdout",
     "output_type": "stream",
     "text": [
      "inputinput https://www.bastamag.net/spip.php?page=backend\n",
      " https://www.off-investigation.fr/feed/input https://lagedefaire-lejournal.fr/feed/\n",
      "\n",
      "input https://reporterre.net/spip.php?page=backend-simple\n",
      "inputinput https://www.youtube.com/channel/UCVeMw72tepFl1Zt5fvf9QKQ\n",
      " https://www.youtube.com/channel/UCQgWpmt02UtJkyO32HGUASQ\n",
      "inputinput https://lvsl.fr/feed/\n",
      "input https://la-bas.org/spip.php?page=backend\n",
      "input https://theconversation.com/ca-fr/home-page/articles.atom \n",
      "https://theconversation.com/fr/articles.atom\n",
      "input https://www.acrimed.org/spip.php?page=backend\n",
      "input inputhttps://www.institut-rousseau.fr/feed/\n",
      " https://www.fakirpresse.info/spip.php?page=backend\n",
      "input https://www.heidi.news/articles.rss\n",
      "input https://reflets.info/feeds/public\n",
      "input https://www.lesnouvellesnews.fr/feed\n",
      "input https://lesjours.fr/rss.xml\n",
      "inputinput https://radioparleur.net/feed/\n",
      " https://rapportsdeforce.fr/feed\n",
      "input https://multinationales.org/spip.php?page=backend\n",
      "input https://www.alternatives-economiques.fr/rss.xml\n",
      "input https://www.mediapart.fr/articles/feed\n",
      "input https://backend.streetpress.com/rss.xml\n",
      "input https://api.blast-info.fr/rss.xml\n",
      "input https://api.arretsurimages.net/api/public/rss/all-content\n",
      "input https://www.mediacites.fr/feed/\n",
      "input https://www.bondyblog.fr/feed/\n",
      "input https://www.monde-diplomatique.fr/rss/\n",
      "input https://afriquexxi.info/?page=backend&lang=fr\n",
      "input https://guitinews.fr/feed/\n",
      "input https://www.youtube.com/channel/UC2ijB3_Fg2pIW1g6FeIiYKA\n",
      "input https://mrmondialisation.org/feed/\n",
      "input https://up-magazine.info/feed/\n",
      "input https://predictalab.medium.com/feed\n",
      "input https://www.youtube.com/playlist?list=PLIVcDWpMT7KfTCsp2It3EVmMwG2C7CfPf\n",
      "input https://feeds.acast.com/public/shows/in-extenso\n",
      "input https://www.youtube.com/channel/UCBiAHZy9Gghpt0JyDaz3SYw\n",
      "inputinput https://www.youtube.com/channel/UC2ijB3_Fg2pIW1g6FeIiYKA\n",
      " https://themarkup.org/feeds/rss.xml\n",
      "input https://feeds.feedburner.com/pudding/feed\n"
     ]
    },
    {
     "name": "stderr",
     "output_type": "stream",
     "text": [
      "ERROR:root:https://lagedefaire-lejournal.fr/feed/: ConnectTimeout.\n"
     ]
    },
    {
     "name": "stdout",
     "output_type": "stream",
     "text": [
      "FAKIR !!!!!\n",
      "Les châteaux de nos seigneurs 2022-02-23 10:29:22+00:00 False\n",
      "FAKIR !!!!!\n",
      "Pas de présidentielle sans les essentielles ! 2022-02-16 12:32:51+00:00 False\n",
      "FAKIR !!!!!\n",
      "L'Uber dans les épinards ? 2021-12-09 08:11:43+00:00 False\n",
      "FAKIR !!!!!\n",
      "Leïla Chaibi : \"Macron, le lobbyiste d'Uber\" 2021-12-07 10:48:17+00:00 False\n",
      "FAKIR !!!!!\n",
      "La vache au milieu du couloir 2021-12-01 09:38:01+00:00 False\n",
      "FAKIR !!!!!\n",
      "Debout les femmes ! 2021-08-25 15:22:07+00:00 False\n",
      "FAKIR !!!!!\n",
      "Les vaches feront-elles du surf ? 2021-06-14 15:01:20+00:00 False\n",
      "FAKIR !!!!!\n",
      "Marine Le Pen, l'autre candidate des riches 2021-06-08 09:28:00+00:00 False\n",
      "FAKIR !!!!!\n",
      "Les folles aventures des gens ordinaires 2021-06-03 15:14:07+00:00 False\n",
      "FAKIR !!!!!\n",
      "Droit dans les yeux 2020-11-26 10:52:22+00:00 False\n",
      "input https://www.lemonde.fr/pixels/rss_full.xml\n",
      "input https://www.lemonde.fr/planete/rss_full.xml\n",
      "input input https://www.youtube.com/channel/UC3E2DhYIqnoc6H3WXwTVnlA\n",
      "https://www.youtube.com/channel/UCU0FhLr6fr7U9GOn6OiQHpQ\n",
      "input https://www.statnews.com/feed/\n",
      "input https://www.lemonde.fr/blog/realitesbiomedicales/feed/\n",
      "input https://rss.nytimes.com/services/xml/rss/nyt/Science.xml\n",
      "input http://radiofrance-podcast.net/podcast09/rss_14312.xml\n",
      "input http://radiofrance-podcast.net/podcast09/rss_20902.xmlinput googlenews-fr-fr: paléoanthropologie\n",
      "\n",
      "input https://theconversation.com/fr/articles.atom\n",
      "input https://theconversation.com/ca-fr/home-page/articles.atom\n",
      "input https://theconversation.com/us/home-page/articles.atom\n",
      "input googlenews-fr-fr: tribune\n",
      "input https://www.lemonde.fr/idees-tribunes/rss_full.xml\n",
      "input https://www.youtube.com/channel/UCQgWpmt02UtJkyO32HGUASQ\n",
      "input https://www.lemonde.fr/les-decodeurs/rss_full.xml\n",
      "input https://www.liberation.fr/arc/outboundfeeds/collection/accueil-une/?outputType=xml\n",
      "input https://lessurligneurs.eu/feed/\n",
      "input https://www.rtl.fr/podcast/fact-checking.xml\n",
      "input http://radiofrance-podcast.net/podcast09/rss_12249.xml\n",
      "input https://www.youtube.com/channel/UCRAbwEqGDnUBt_gPOkplGBA/videos\n",
      "input https://www.youtube.com/channel/UCU0FhLr6fr7U9GOn6OiQHpQ\n",
      "input https://www.youtube.com/playlist?list=PL3t1ytKnk4hVrv2H-rTSPnySNdqr2CuXL\n"
     ]
    }
   ],
   "source": [
    "html = create_page(\"https://raw.githubusercontent.com/nicolasgallandpro/ernestine-data/main/medias_indeps.rsc\", \\\n",
    "            \"/workspace/ernestine2/static_v1/output/index.html\", show_categories=False)\n",
    "\n",
    "html_science = create_page(\"https://raw.githubusercontent.com/nicolasgallandpro/ernestine-data/main/science.rsc\", \\\n",
    "            \"/workspace/ernestine2/static_v1/output/science.html\", show_categories=False)\n",
    "\n",
    "temp = create_page(\"https://raw.githubusercontent.com/nicolasgallandpro/ernestine-data/main/tribunes.rsc\", \\\n",
    "            \"/workspace/ernestine2/static_v1/output/tribunes.html\", show_categories=False)\n",
    "\n",
    "temp = create_page(\"https://raw.githubusercontent.com/nicolasgallandpro/ernestine-data/main/fact_checking.rsc\", \\\n",
    "            \"/workspace/ernestine2/static_v1/output/fact_checking.html\", show_categories=False)\n",
    "\n"
   ]
  },
  {
   "cell_type": "code",
   "execution_count": 4,
   "id": "983759d3-fc47-4016-9c96-1dc85350c945",
   "metadata": {},
   "outputs": [
    {
     "ename": "HTTPError",
     "evalue": "HTTP Error 404: Not Found",
     "output_type": "error",
     "traceback": [
      "\u001b[0;31m---------------------------------------------------------------------------\u001b[0m",
      "\u001b[0;31mHTTPError\u001b[0m                                 Traceback (most recent call last)",
      "Input \u001b[0;32mIn [4]\u001b[0m, in \u001b[0;36m<cell line: 1>\u001b[0;34m()\u001b[0m\n\u001b[0;32m----> 1\u001b[0m temp \u001b[38;5;241m=\u001b[39m \u001b[43mcreate_page\u001b[49m\u001b[43m(\u001b[49m\u001b[38;5;124;43m\"\u001b[39;49m\u001b[38;5;124;43mhttps://raw.githubusercontent.com/nicolasgallandpro/ernestine2/input/dataviz.rsc\u001b[39;49m\u001b[38;5;124;43m\"\u001b[39;49m\u001b[43m,\u001b[49m\u001b[43m \u001b[49m\u001b[43m\\\u001b[49m\n\u001b[1;32m      2\u001b[0m \u001b[43m            \u001b[49m\u001b[38;5;124;43m\"\u001b[39;49m\u001b[38;5;124;43m/workspace/ernestine2/static_v1/output/dataviz.html\u001b[39;49m\u001b[38;5;124;43m\"\u001b[39;49m\u001b[43m,\u001b[49m\u001b[43m \u001b[49m\u001b[43mshow_categories\u001b[49m\u001b[38;5;241;43m=\u001b[39;49m\u001b[38;5;28;43;01mFalse\u001b[39;49;00m\u001b[43m)\u001b[49m\n",
      "File \u001b[0;32m/workspace/ernestine2/sources/generate_static.py:64\u001b[0m, in \u001b[0;36mcreate_page\u001b[0;34m(rsc, file, show_categories)\u001b[0m\n\u001b[1;32m     63\u001b[0m \u001b[38;5;28;01mdef\u001b[39;00m \u001b[38;5;21mcreate_page\u001b[39m(rsc, file, show_categories\u001b[38;5;241m=\u001b[39m\u001b[38;5;28;01mTrue\u001b[39;00m):\n\u001b[0;32m---> 64\u001b[0m   p \u001b[38;5;241m=\u001b[39m \u001b[43mParsed_rsc\u001b[49m\u001b[43m(\u001b[49m\u001b[43mrsc\u001b[49m\u001b[43m)\u001b[49m\n\u001b[1;32m     65\u001b[0m   raw \u001b[38;5;241m=\u001b[39m get_raw_posts(p)\n\u001b[1;32m     66\u001b[0m   formated_posts \u001b[38;5;241m=\u001b[39m prepare_curation_data_without_thumbnails(p, raw) \n",
      "File \u001b[0;32m/workspace/ernestine2/sources/rsc.py:62\u001b[0m, in \u001b[0;36mParsed_rsc.__init__\u001b[0;34m(self, rsc_file, recur)\u001b[0m\n\u001b[1;32m     60\u001b[0m \u001b[38;5;28;01mif\u001b[39;00m recur\u001b[38;5;241m>\u001b[39m\u001b[38;5;241m100\u001b[39m:\n\u001b[1;32m     61\u001b[0m     \u001b[38;5;28;01mraise\u001b[39;00m \u001b[38;5;167;01mException\u001b[39;00m(\u001b[38;5;124m'\u001b[39m\u001b[38;5;124mInfinite loop ? more than 100 recursive rsc parse\u001b[39m\u001b[38;5;124m'\u001b[39m)\n\u001b[0;32m---> 62\u001b[0m content \u001b[38;5;241m=\u001b[39m \u001b[43murllib\u001b[49m\u001b[38;5;241;43m.\u001b[39;49m\u001b[43mrequest\u001b[49m\u001b[38;5;241;43m.\u001b[39;49m\u001b[43murlopen\u001b[49m\u001b[43m(\u001b[49m\u001b[43mrsc_file\u001b[49m\u001b[43m)\u001b[49m\u001b[38;5;241m.\u001b[39mread() \u001b[38;5;28;01mif\u001b[39;00m rsc_file\u001b[38;5;241m.\u001b[39mstartswith(\u001b[38;5;124m'\u001b[39m\u001b[38;5;124mhttp\u001b[39m\u001b[38;5;124m'\u001b[39m) \u001b[38;5;28;01melse\u001b[39;00m \u001b[38;5;28mopen\u001b[39m(rsc_file)\u001b[38;5;241m.\u001b[39mread()\n\u001b[1;32m     63\u001b[0m rsc \u001b[38;5;241m=\u001b[39m yaml\u001b[38;5;241m.\u001b[39mload( content, yaml\u001b[38;5;241m.\u001b[39mSafeLoader)\n\u001b[1;32m     64\u001b[0m \u001b[38;5;28mself\u001b[39m\u001b[38;5;241m.\u001b[39mname, \u001b[38;5;28mself\u001b[39m\u001b[38;5;241m.\u001b[39mdescription, \u001b[38;5;28mself\u001b[39m\u001b[38;5;241m.\u001b[39mmax_age_minutes \u001b[38;5;241m=\u001b[39m rsc[\u001b[38;5;124m'\u001b[39m\u001b[38;5;124mname\u001b[39m\u001b[38;5;124m'\u001b[39m], rsc\u001b[38;5;241m.\u001b[39mget(\u001b[38;5;124m'\u001b[39m\u001b[38;5;124mdescription\u001b[39m\u001b[38;5;124m'\u001b[39m), rsc\u001b[38;5;241m.\u001b[39mget(\u001b[38;5;124m'\u001b[39m\u001b[38;5;124mmax_age_minutes\u001b[39m\u001b[38;5;124m'\u001b[39m)\n",
      "File \u001b[0;32m/usr/local/lib/python3.10/urllib/request.py:216\u001b[0m, in \u001b[0;36murlopen\u001b[0;34m(url, data, timeout, cafile, capath, cadefault, context)\u001b[0m\n\u001b[1;32m    214\u001b[0m \u001b[38;5;28;01melse\u001b[39;00m:\n\u001b[1;32m    215\u001b[0m     opener \u001b[38;5;241m=\u001b[39m _opener\n\u001b[0;32m--> 216\u001b[0m \u001b[38;5;28;01mreturn\u001b[39;00m \u001b[43mopener\u001b[49m\u001b[38;5;241;43m.\u001b[39;49m\u001b[43mopen\u001b[49m\u001b[43m(\u001b[49m\u001b[43murl\u001b[49m\u001b[43m,\u001b[49m\u001b[43m \u001b[49m\u001b[43mdata\u001b[49m\u001b[43m,\u001b[49m\u001b[43m \u001b[49m\u001b[43mtimeout\u001b[49m\u001b[43m)\u001b[49m\n",
      "File \u001b[0;32m/usr/local/lib/python3.10/urllib/request.py:525\u001b[0m, in \u001b[0;36mOpenerDirector.open\u001b[0;34m(self, fullurl, data, timeout)\u001b[0m\n\u001b[1;32m    523\u001b[0m \u001b[38;5;28;01mfor\u001b[39;00m processor \u001b[38;5;129;01min\u001b[39;00m \u001b[38;5;28mself\u001b[39m\u001b[38;5;241m.\u001b[39mprocess_response\u001b[38;5;241m.\u001b[39mget(protocol, []):\n\u001b[1;32m    524\u001b[0m     meth \u001b[38;5;241m=\u001b[39m \u001b[38;5;28mgetattr\u001b[39m(processor, meth_name)\n\u001b[0;32m--> 525\u001b[0m     response \u001b[38;5;241m=\u001b[39m \u001b[43mmeth\u001b[49m\u001b[43m(\u001b[49m\u001b[43mreq\u001b[49m\u001b[43m,\u001b[49m\u001b[43m \u001b[49m\u001b[43mresponse\u001b[49m\u001b[43m)\u001b[49m\n\u001b[1;32m    527\u001b[0m \u001b[38;5;28;01mreturn\u001b[39;00m response\n",
      "File \u001b[0;32m/usr/local/lib/python3.10/urllib/request.py:634\u001b[0m, in \u001b[0;36mHTTPErrorProcessor.http_response\u001b[0;34m(self, request, response)\u001b[0m\n\u001b[1;32m    631\u001b[0m \u001b[38;5;66;03m# According to RFC 2616, \"2xx\" code indicates that the client's\u001b[39;00m\n\u001b[1;32m    632\u001b[0m \u001b[38;5;66;03m# request was successfully received, understood, and accepted.\u001b[39;00m\n\u001b[1;32m    633\u001b[0m \u001b[38;5;28;01mif\u001b[39;00m \u001b[38;5;129;01mnot\u001b[39;00m (\u001b[38;5;241m200\u001b[39m \u001b[38;5;241m<\u001b[39m\u001b[38;5;241m=\u001b[39m code \u001b[38;5;241m<\u001b[39m \u001b[38;5;241m300\u001b[39m):\n\u001b[0;32m--> 634\u001b[0m     response \u001b[38;5;241m=\u001b[39m \u001b[38;5;28;43mself\u001b[39;49m\u001b[38;5;241;43m.\u001b[39;49m\u001b[43mparent\u001b[49m\u001b[38;5;241;43m.\u001b[39;49m\u001b[43merror\u001b[49m\u001b[43m(\u001b[49m\n\u001b[1;32m    635\u001b[0m \u001b[43m        \u001b[49m\u001b[38;5;124;43m'\u001b[39;49m\u001b[38;5;124;43mhttp\u001b[39;49m\u001b[38;5;124;43m'\u001b[39;49m\u001b[43m,\u001b[49m\u001b[43m \u001b[49m\u001b[43mrequest\u001b[49m\u001b[43m,\u001b[49m\u001b[43m \u001b[49m\u001b[43mresponse\u001b[49m\u001b[43m,\u001b[49m\u001b[43m \u001b[49m\u001b[43mcode\u001b[49m\u001b[43m,\u001b[49m\u001b[43m \u001b[49m\u001b[43mmsg\u001b[49m\u001b[43m,\u001b[49m\u001b[43m \u001b[49m\u001b[43mhdrs\u001b[49m\u001b[43m)\u001b[49m\n\u001b[1;32m    637\u001b[0m \u001b[38;5;28;01mreturn\u001b[39;00m response\n",
      "File \u001b[0;32m/usr/local/lib/python3.10/urllib/request.py:563\u001b[0m, in \u001b[0;36mOpenerDirector.error\u001b[0;34m(self, proto, *args)\u001b[0m\n\u001b[1;32m    561\u001b[0m \u001b[38;5;28;01mif\u001b[39;00m http_err:\n\u001b[1;32m    562\u001b[0m     args \u001b[38;5;241m=\u001b[39m (\u001b[38;5;28mdict\u001b[39m, \u001b[38;5;124m'\u001b[39m\u001b[38;5;124mdefault\u001b[39m\u001b[38;5;124m'\u001b[39m, \u001b[38;5;124m'\u001b[39m\u001b[38;5;124mhttp_error_default\u001b[39m\u001b[38;5;124m'\u001b[39m) \u001b[38;5;241m+\u001b[39m orig_args\n\u001b[0;32m--> 563\u001b[0m     \u001b[38;5;28;01mreturn\u001b[39;00m \u001b[38;5;28;43mself\u001b[39;49m\u001b[38;5;241;43m.\u001b[39;49m\u001b[43m_call_chain\u001b[49m\u001b[43m(\u001b[49m\u001b[38;5;241;43m*\u001b[39;49m\u001b[43margs\u001b[49m\u001b[43m)\u001b[49m\n",
      "File \u001b[0;32m/usr/local/lib/python3.10/urllib/request.py:496\u001b[0m, in \u001b[0;36mOpenerDirector._call_chain\u001b[0;34m(self, chain, kind, meth_name, *args)\u001b[0m\n\u001b[1;32m    494\u001b[0m \u001b[38;5;28;01mfor\u001b[39;00m handler \u001b[38;5;129;01min\u001b[39;00m handlers:\n\u001b[1;32m    495\u001b[0m     func \u001b[38;5;241m=\u001b[39m \u001b[38;5;28mgetattr\u001b[39m(handler, meth_name)\n\u001b[0;32m--> 496\u001b[0m     result \u001b[38;5;241m=\u001b[39m \u001b[43mfunc\u001b[49m\u001b[43m(\u001b[49m\u001b[38;5;241;43m*\u001b[39;49m\u001b[43margs\u001b[49m\u001b[43m)\u001b[49m\n\u001b[1;32m    497\u001b[0m     \u001b[38;5;28;01mif\u001b[39;00m result \u001b[38;5;129;01mis\u001b[39;00m \u001b[38;5;129;01mnot\u001b[39;00m \u001b[38;5;28;01mNone\u001b[39;00m:\n\u001b[1;32m    498\u001b[0m         \u001b[38;5;28;01mreturn\u001b[39;00m result\n",
      "File \u001b[0;32m/usr/local/lib/python3.10/urllib/request.py:643\u001b[0m, in \u001b[0;36mHTTPDefaultErrorHandler.http_error_default\u001b[0;34m(self, req, fp, code, msg, hdrs)\u001b[0m\n\u001b[1;32m    642\u001b[0m \u001b[38;5;28;01mdef\u001b[39;00m \u001b[38;5;21mhttp_error_default\u001b[39m(\u001b[38;5;28mself\u001b[39m, req, fp, code, msg, hdrs):\n\u001b[0;32m--> 643\u001b[0m     \u001b[38;5;28;01mraise\u001b[39;00m HTTPError(req\u001b[38;5;241m.\u001b[39mfull_url, code, msg, hdrs, fp)\n",
      "\u001b[0;31mHTTPError\u001b[0m: HTTP Error 404: Not Found"
     ]
    }
   ],
   "source": [
    "temp = create_page(\"https://raw.githubusercontent.com/nicolasgallandpro/ernestine2/main/input/dataviz.rsc\", \\\n",
    "            \"/workspace/ernestine2/static_v1/output/dataviz.html\", show_categories=False)\n"
   ]
  },
  {
   "cell_type": "code",
   "execution_count": null,
   "id": "1ae44a9d-95ee-451c-a848-9aa7a9a9f4d9",
   "metadata": {},
   "outputs": [],
   "source": [
    "import dagstermill, requests\n",
    "requests.get('https://hc-ping.com/56d92aab-b3b4-407c-b854-4c6e2db4b194') #healthchecks.io\n",
    "dagstermill.yield_result(\"ok\")"
   ]
  },
  {
   "cell_type": "code",
   "execution_count": null,
   "id": "16c6e86e-1019-42d8-b40f-d5f8f2b351d0",
   "metadata": {},
   "outputs": [],
   "source": []
  }
 ],
 "metadata": {
  "kernelspec": {
   "display_name": "Python 3 (ipykernel)",
   "language": "python",
   "name": "python3"
  },
  "language_info": {
   "codemirror_mode": {
    "name": "ipython",
    "version": 3
   },
   "file_extension": ".py",
   "mimetype": "text/x-python",
   "name": "python",
   "nbconvert_exporter": "python",
   "pygments_lexer": "ipython3",
   "version": "3.10.2"
  }
 },
 "nbformat": 4,
 "nbformat_minor": 5
}
