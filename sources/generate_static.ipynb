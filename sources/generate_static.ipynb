{
 "cells": [
  {
   "cell_type": "code",
   "execution_count": 1,
   "id": "749b4c72-d702-4525-a3c4-8ac68baa6164",
   "metadata": {},
   "outputs": [
    {
     "name": "stdout",
     "output_type": "stream",
     "text": [
      "Requirement already satisfied: art in /usr/local/lib/python3.10/site-packages (5.5)\n",
      "Requirement already satisfied: feedparser in /usr/local/lib/python3.10/site-packages (6.0.8)\n",
      "Requirement already satisfied: redis in /usr/local/lib/python3.10/site-packages (4.2.0)\n",
      "Requirement already satisfied: sgmllib3k in /usr/local/lib/python3.10/site-packages (from feedparser) (1.0.0)\n",
      "Requirement already satisfied: deprecated>=1.2.3 in /usr/local/lib/python3.10/site-packages (from redis) (1.2.13)\n",
      "Requirement already satisfied: packaging>=20.4 in /usr/local/lib/python3.10/site-packages (from redis) (21.3)\n",
      "Requirement already satisfied: typing-extensions in /usr/local/lib/python3.10/site-packages (from redis) (4.1.1)\n",
      "Requirement already satisfied: async-timeout>=4.0.2 in /usr/local/lib/python3.10/site-packages (from redis) (4.0.2)\n",
      "Requirement already satisfied: wrapt<2,>=1.10 in /usr/local/lib/python3.10/site-packages (from deprecated>=1.2.3->redis) (1.14.0)\n",
      "Requirement already satisfied: pyparsing!=3.0.5,>=2.0.2 in /usr/local/lib/python3.10/site-packages (from packaging>=20.4->redis) (3.0.7)\n",
      "\u001b[33mWARNING: Running pip as the 'root' user can result in broken permissions and conflicting behaviour with the system package manager. It is recommended to use a virtual environment instead: https://pip.pypa.io/warnings/venv\u001b[0m\n",
      "\u001b[33mWARNING: You are using pip version 21.2.4; however, version 22.0.4 is available.\n",
      "You should consider upgrading via the '/usr/local/bin/python -m pip install --upgrade pip' command.\u001b[0m\n"
     ]
    }
   ],
   "source": [
    "!pip install art feedparser redis\n",
    "!pip install beautifulsoup4\n",
    "import sys\n",
    "# insert at 1, 0 is the script path (or '' in REPL)\n",
    "sys.path.insert(1, '/workspace/ernestine2/sources')\n",
    "from generate_static import create_page"
   ]
  },
  {
   "cell_type": "code",
   "execution_count": 2,
   "id": "b0c7668e-814e-47a2-a3f5-5900bdd63833",
   "metadata": {},
   "outputs": [
    {
     "name": "stdout",
     "output_type": "stream",
     "text": [
      "input input https://www.off-investigation.fr/feed/\n",
      "https://www.bastamag.net/spip.php?page=backendinput https://lagedefaire-lejournal.fr/feed/\n",
      "\n",
      "input https://reporterre.net/spip.php?page=backend-simple\n",
      "input https://www.youtube.com/channel/UCQgWpmt02UtJkyO32HGUASQ\n",
      "input https://www.youtube.com/channel/UCVeMw72tepFl1Zt5fvf9QKQ\n",
      "input https://la-bas.org/spip.php?page=backend\n",
      "input https://lvsl.fr/feed/\n",
      "input https://theconversation.com/fr/articles.atom\n",
      "input https://theconversation.com/ca-fr/home-page/articles.atom\n",
      "input https://www.acrimed.org/spip.php?page=backend\n",
      "input https://www.institut-rousseau.fr/feed/\n",
      "input https://www.fakirpresse.info/spip.php?page=backend\n",
      "input https://www.heidi.news/articles.rss\n",
      "inputinput https://www.lesnouvellesnews.fr/feed\n",
      " https://reflets.info/feeds/public\n",
      "input https://lesjours.fr/rss.xml\n",
      "input https://rapportsdeforce.fr/feed\n",
      "input https://radioparleur.net/feed/\n",
      "input https://multinationales.org/spip.php?page=backend\n",
      "input https://www.alternatives-economiques.fr/rss.xml\n",
      "inputinput https://backend.streetpress.com/rss.xml\n",
      " https://www.mediapart.fr/articles/feed\n",
      "input https://api.blast-info.fr/rss.xml\n",
      "input https://api.arretsurimages.net/api/public/rss/all-content\n",
      "input https://www.mediacites.fr/feed/\n",
      "input https://www.bondyblog.fr/feed/\n",
      "input https://www.monde-diplomatique.fr/rss/\n",
      "input https://afriquexxi.info/?page=backend&lang=fr\n",
      "input https://guitinews.fr/feed/\n",
      "input https://www.youtube.com/channel/UC2ijB3_Fg2pIW1g6FeIiYKA\n",
      "input https://mrmondialisation.org/feed/\n",
      "input https://up-magazine.info/feed/\n",
      "input https://predictalab.medium.com/feed\n",
      "input https://www.youtube.com/playlist?list=PLIVcDWpMT7KfTCsp2It3EVmMwG2C7CfPf\n",
      "input https://feeds.acast.com/public/shows/in-extenso\n",
      "input https://www.youtube.com/channel/UCBiAHZy9Gghpt0JyDaz3SYwinput https://themarkup.org/feeds/rss.xml\n",
      "input https://www.youtube.com/channel/UC2ijB3_Fg2pIW1g6FeIiYKA\n",
      "\n",
      "input https://feeds.feedburner.com/pudding/feed\n",
      "input https://poliverse.fr/index.xml\n"
     ]
    },
    {
     "name": "stderr",
     "output_type": "stream",
     "text": [
      "ERROR:root:https://lagedefaire-lejournal.fr/feed/: ConnectTimeout.\n"
     ]
    },
    {
     "name": "stdout",
     "output_type": "stream",
     "text": [
      "FAKIR !!!!!\n",
      "Les châteaux de nos seigneurs 2022-02-23 10:29:22+00:00 False\n",
      "FAKIR !!!!!\n",
      "Pas de présidentielle sans les essentielles ! 2022-02-16 12:32:51+00:00 False\n",
      "FAKIR !!!!!\n",
      "L'Uber dans les épinards ? 2021-12-09 08:11:43+00:00 False\n",
      "FAKIR !!!!!\n",
      "Leïla Chaibi : \"Macron, le lobbyiste d'Uber\" 2021-12-07 10:48:17+00:00 False\n",
      "FAKIR !!!!!\n",
      "La vache au milieu du couloir 2021-12-01 09:38:01+00:00 False\n",
      "FAKIR !!!!!\n",
      "Debout les femmes ! 2021-08-25 15:22:07+00:00 False\n",
      "FAKIR !!!!!\n",
      "Les vaches feront-elles du surf ? 2021-06-14 15:01:20+00:00 False\n",
      "FAKIR !!!!!\n",
      "Marine Le Pen, l'autre candidate des riches 2021-06-08 09:28:00+00:00 False\n",
      "FAKIR !!!!!\n",
      "Les folles aventures des gens ordinaires 2021-06-03 15:14:07+00:00 False\n",
      "FAKIR !!!!!\n",
      "Droit dans les yeux 2020-11-26 10:52:22+00:00 False\n",
      "input https://www.lemonde.fr/pixels/rss_full.xml\n",
      "input https://www.lemonde.fr/planete/rss_full.xml\n",
      "input https://www.youtube.com/channel/UCU0FhLr6fr7U9GOn6OiQHpQ\n",
      "input https://www.youtube.com/channel/UC3E2DhYIqnoc6H3WXwTVnlA\n",
      "input https://www.statnews.com/feed/\n",
      "input https://www.lemonde.fr/blog/realitesbiomedicales/feed/\n",
      "input input http://radiofrance-podcast.net/podcast09/rss_14312.xml\n",
      "input http://radiofrance-podcast.net/podcast09/rss_20902.xml\n",
      "input googlenews-fr-fr: paléoanthropologie\n",
      "https://rss.nytimes.com/services/xml/rss/nyt/Science.xml\n",
      "input https://theconversation.com/fr/articles.atom\n",
      "input https://theconversation.com/ca-fr/home-page/articles.atom\n",
      "input https://theconversation.com/us/home-page/articles.atom\n",
      "input googlenews-fr-fr: tribune\n",
      "input https://www.lemonde.fr/idees-tribunes/rss_full.xml\n",
      "input https://www.youtube.com/channel/UCQgWpmt02UtJkyO32HGUASQ\n",
      "input https://www.lemonde.fr/les-decodeurs/rss_full.xml\n",
      "input https://www.liberation.fr/arc/outboundfeeds/collection/accueil-une/?outputType=xml\n",
      "input https://lessurligneurs.eu/feed/\n",
      "input https://www.rtl.fr/podcast/fact-checking.xml\n",
      "input http://radiofrance-podcast.net/podcast09/rss_12249.xml\n",
      "input https://www.youtube.com/channel/UCRAbwEqGDnUBt_gPOkplGBA/videos\n",
      "input https://www.youtube.com/channel/UCU0FhLr6fr7U9GOn6OiQHpQinput\n",
      " https://www.youtube.com/playlist?list=PL3t1ytKnk4hVrv2H-rTSPnySNdqr2CuXL\n"
     ]
    }
   ],
   "source": [
    "html = create_page(\"https://raw.githubusercontent.com/nicolasgallandpro/ernestine-data/main/medias_indeps.rsc\", \\\n",
    "            \"/workspace/ernestine2/static_v1/output/index.html\", show_categories=False)\n",
    "\n",
    "html_science = create_page(\"https://raw.githubusercontent.com/nicolasgallandpro/ernestine-data/main/science.rsc\", \\\n",
    "            \"/workspace/ernestine2/static_v1/output/science.html\", show_categories=False)\n",
    "\n",
    "temp = create_page(\"https://raw.githubusercontent.com/nicolasgallandpro/ernestine-data/main/tribunes.rsc\", \\\n",
    "            \"/workspace/ernestine2/static_v1/output/tribunes.html\", show_categories=False)\n",
    "\n",
    "temp = create_page(\"https://raw.githubusercontent.com/nicolasgallandpro/ernestine-data/main/fact_checking.rsc\", \\\n",
    "            \"/workspace/ernestine2/static_v1/output/fact_checking.html\", show_categories=False)\n",
    "\n"
   ]
  },
  {
   "cell_type": "code",
   "execution_count": 3,
   "id": "983759d3-fc47-4016-9c96-1dc85350c945",
   "metadata": {},
   "outputs": [
    {
     "name": "stderr",
     "output_type": "stream",
     "text": [
      "ERROR:root:googlenewsen: data artist:Unexpected Exception Traceback (most recent call last):\n",
      "  File \"/workspace/ernestine2/sources/inputs.py\", line 85, in retrieve_inputs\n",
      "    inpu, res = future.result()\n",
      "  File \"/usr/local/lib/python3.10/concurrent/futures/_base.py\", line 439, in result\n",
      "    return self.__get_result()\n",
      "  File \"/usr/local/lib/python3.10/concurrent/futures/_base.py\", line 391, in __get_result\n",
      "    raise self._exception\n",
      "  File \"/usr/local/lib/python3.10/concurrent/futures/thread.py\", line 58, in run\n",
      "    result = self.fn(*self.args, **self.kwargs)\n",
      "  File \"/workspace/ernestine2/sources/inputs.py\", line 60, in retrieve_input\n",
      "    (tmp, lang, country) = ('', 'en', 'en') if country=='googlenews' else country.split('-')\n",
      "ValueError: not enough values to unpack (expected 3, got 1)\n",
      "\n"
     ]
    },
    {
     "name": "stdout",
     "output_type": "stream",
     "text": [
      "inputinput https://datajournalism.com/read/rss/longreads.xml\n",
      " https://whatsnewinpublishing.com/feed/\n",
      "input https://medium.com/feed/tag/data-visualization\n",
      "input googlenewsen: data artist\n",
      "input https://medium.com/feed/nightingale\n",
      "input https://flowingdata.com/feed\n",
      "input https://blog.datawrapper.de/feed/\n",
      "input https://anchor.fm/s/47aac444/podcast/rss\n"
     ]
    }
   ],
   "source": [
    "temp = create_page(\"https://raw.githubusercontent.com/nicolasgallandpro/ernestine2/main/input/dataviz.rsc\", \\\n",
    "            \"/workspace/ernestine2/static_v1/output/dataviz.html\", show_categories=False)\n"
   ]
  },
  {
   "cell_type": "code",
   "execution_count": 4,
   "id": "1ae44a9d-95ee-451c-a848-9aa7a9a9f4d9",
   "metadata": {},
   "outputs": [
    {
     "data": {
      "text/plain": [
       "'ok'"
      ]
     },
     "execution_count": 4,
     "metadata": {},
     "output_type": "execute_result"
    }
   ],
   "source": [
    "import dagstermill, requests\n",
    "requests.get('https://hc-ping.com/56d92aab-b3b4-407c-b854-4c6e2db4b194') #healthchecks.io\n",
    "dagstermill.yield_result(\"ok\")"
   ]
  },
  {
   "cell_type": "code",
   "execution_count": null,
   "id": "16c6e86e-1019-42d8-b40f-d5f8f2b351d0",
   "metadata": {},
   "outputs": [],
   "source": []
  }
 ],
 "metadata": {
  "kernelspec": {
   "display_name": "Python 3 (ipykernel)",
   "language": "python",
   "name": "python3"
  },
  "language_info": {
   "codemirror_mode": {
    "name": "ipython",
    "version": 3
   },
   "file_extension": ".py",
   "mimetype": "text/x-python",
   "name": "python",
   "nbconvert_exporter": "python",
   "pygments_lexer": "ipython3",
   "version": "3.10.2"
  }
 },
 "nbformat": 4,
 "nbformat_minor": 5
}
