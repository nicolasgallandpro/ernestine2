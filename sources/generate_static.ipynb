{
 "cells": [
  {
   "cell_type": "code",
   "execution_count": 1,
   "id": "749b4c72-d702-4525-a3c4-8ac68baa6164",
   "metadata": {},
   "outputs": [
    {
     "name": "stdout",
     "output_type": "stream",
     "text": [
      "Requirement already satisfied: art in /usr/local/lib/python3.10/site-packages (5.6)\n",
      "Requirement already satisfied: feedparser in /usr/local/lib/python3.10/site-packages (6.0.8)\n",
      "Requirement already satisfied: redis in /usr/local/lib/python3.10/site-packages (4.3.1)\n",
      "Requirement already satisfied: sgmllib3k in /usr/local/lib/python3.10/site-packages (from feedparser) (1.0.0)\n",
      "Requirement already satisfied: deprecated>=1.2.3 in /usr/local/lib/python3.10/site-packages (from redis) (1.2.13)\n",
      "Requirement already satisfied: packaging>=20.4 in /usr/local/lib/python3.10/site-packages (from redis) (21.3)\n",
      "Requirement already satisfied: async-timeout>=4.0.2 in /usr/local/lib/python3.10/site-packages (from redis) (4.0.2)\n",
      "Requirement already satisfied: wrapt<2,>=1.10 in /usr/local/lib/python3.10/site-packages (from deprecated>=1.2.3->redis) (1.14.1)\n",
      "Requirement already satisfied: pyparsing!=3.0.5,>=2.0.2 in /usr/local/lib/python3.10/site-packages (from packaging>=20.4->redis) (3.0.7)\n",
      "\u001b[33mWARNING: Running pip as the 'root' user can result in broken permissions and conflicting behaviour with the system package manager. It is recommended to use a virtual environment instead: https://pip.pypa.io/warnings/venv\u001b[0m\n",
      "\u001b[33mWARNING: You are using pip version 21.2.4; however, version 22.1.1 is available.\n",
      "You should consider upgrading via the '/usr/local/bin/python -m pip install --upgrade pip' command.\u001b[0m\n",
      "Requirement already satisfied: beautifulsoup4 in /usr/local/lib/python3.10/site-packages (4.11.1)\n",
      "Requirement already satisfied: soupsieve>1.2 in /usr/local/lib/python3.10/site-packages (from beautifulsoup4) (2.3.2.post1)\n",
      "\u001b[33mWARNING: Running pip as the 'root' user can result in broken permissions and conflicting behaviour with the system package manager. It is recommended to use a virtual environment instead: https://pip.pypa.io/warnings/venv\u001b[0m\n",
      "\u001b[33mWARNING: You are using pip version 21.2.4; however, version 22.1.1 is available.\n",
      "You should consider upgrading via the '/usr/local/bin/python -m pip install --upgrade pip' command.\u001b[0m\n"
     ]
    }
   ],
   "source": [
    "!pip install art feedparser redis\n",
    "!pip install beautifulsoup4\n"
   ]
  },
  {
   "cell_type": "code",
   "execution_count": 2,
   "id": "119b7623-cc7b-4bbd-85c1-1dfa45bce282",
   "metadata": {},
   "outputs": [],
   "source": [
    "import sys\n",
    "# insert at 1, 0 is the script path (or '' in REPL)\n",
    "sys.path.insert(1, '/workspace/ernestine2/sources')\n",
    "from rsc import RSC\n",
    "from generate_static import create_page"
   ]
  },
  {
   "cell_type": "code",
   "execution_count": 3,
   "id": "b0c7668e-814e-47a2-a3f5-5900bdd63833",
   "metadata": {},
   "outputs": [
    {
     "name": "stdout",
     "output_type": "stream",
     "text": [
      "inputinput https://www.bastamag.net/spip.php?page=backend\n",
      " https://www.off-investigation.fr/feed/\n",
      "input https://lagedefaire-lejournal.fr/feed/\n",
      "input https://reporterre.net/spip.php?page=backend-simple\n",
      "input https://www.youtube.com/channel/UCQgWpmt02UtJkyO32HGUASQ\n",
      "input https://www.youtube.com/channel/UCVeMw72tepFl1Zt5fvf9QKQ\n",
      "input https://la-bas.org/spip.php?page=backend\n",
      "input https://lvsl.fr/feed/\n",
      "input https://theconversation.com/fr/articles.atom\n",
      "input https://theconversation.com/ca-fr/home-page/articles.atom\n",
      "inputinput https://www.institut-rousseau.fr/feed/\n",
      " input https://www.fakirpresse.info/spip.php?page=backend\n",
      "https://www.acrimed.org/spip.php?page=backend\n",
      "input https://www.heidi.news/articles.rss\n",
      "input https://reflets.info/feeds/public\n",
      "input https://www.lesnouvellesnews.fr/feed\n",
      "inputinput https://rapportsdeforce.fr/feed\n",
      "input  https://radioparleur.net/feed/\n",
      "https://lesjours.fr/rss.xml\n",
      "input https://multinationales.org/spip.php?page=backend\n",
      "input https://www.alternatives-economiques.fr/rss.xml\n",
      "input https://www.mediapart.fr/articles/feed\n",
      "input https://backend.streetpress.com/rss.xml\n",
      "input https://api.blast-info.fr/rss.xml\n",
      "input https://api.arretsurimages.net/api/public/rss/all-content\n",
      "input https://www.mediacites.fr/feed/\n",
      "input https://www.bondyblog.fr/feed/\n",
      "input https://www.monde-diplomatique.fr/rss/\n",
      "input https://afriquexxi.info/?page=backend&lang=fr\n",
      "inputinput https://www.youtube.com/channel/UC2ijB3_Fg2pIW1g6FeIiYKA\n",
      " https://guitinews.fr/feed/\n",
      "input https://mrmondialisation.org/feed/\n",
      "input https://up-magazine.info/feed/\n",
      "input https://predictalab.medium.com/feed\n",
      "inputinput https://feeds.acast.com/public/shows/in-extenso\n",
      " https://www.youtube.com/playlist?list=PLIVcDWpMT7KfTCsp2It3EVmMwG2C7CfPf\n",
      "input https://www.youtube.com/channel/UCBiAHZy9Gghpt0JyDaz3SYw\n",
      "input https://themarkup.org/feeds/rss.xml\n",
      "input https://www.youtube.com/channel/UC2ijB3_Fg2pIW1g6FeIiYKA\n",
      "input https://feeds.feedburner.com/pudding/feed\n",
      "input https://poliverse.fr/index.xml\n"
     ]
    },
    {
     "name": "stderr",
     "output_type": "stream",
     "text": [
      "ERROR:root:https://lagedefaire-lejournal.fr/feed/: ConnectTimeout.\n",
      "/usr/local/lib/python3.10/site-packages/bs4/__init__.py:435: MarkupResemblesLocatorWarning: The input looks more like a filename than markup. You may want to open this file and pass the filehandle into Beautiful Soup.\n",
      "  warnings.warn(\n"
     ]
    },
    {
     "name": "stdout",
     "output_type": "stream",
     "text": [
      "try to add image\n",
      "found in cache :  https://lesjours.fr/ressources/opengraph/image/ep4-premiers-dossiers-img-header/ep4-premiers-dossiers-img-header-1.jpeg\n",
      "try to add image\n",
      "found in cache :  https://images.theconversation.com/files/464528/original/file-20220520-22-mmlp7e.png?ixlib=rb-1.1.0&rect=0%2C261%2C2892%2C1444&q=45&auto=format&w=1356&h=668&fit=crop\n",
      "try to add image\n",
      "found in cache :  https://images.theconversation.com/files/464224/original/file-20220519-25-t43ruu.jpg?ixlib=rb-1.1.0&rect=0%2C772%2C4031%2C2015&q=45&auto=format&w=1356&h=668&fit=crop\n",
      "try to add image\n",
      "found in cache :  https://images.theconversation.com/files/464456/original/file-20220520-15-kozrra.jpg?ixlib=rb-1.1.0&rect=25%2C933%2C5534%2C2767&q=45&auto=format&w=1356&h=668&fit=crop\n",
      "try to add image\n",
      "found in cache :  https://images.theconversation.com/files/464453/original/file-20220520-11-gzm4ok.jpg?ixlib=rb-1.1.0&rect=0%2C0%2C1280%2C640&q=45&auto=format&w=1356&h=668&fit=crop\n",
      "try to add image\n",
      "found in cache :  https://images.theconversation.com/files/464041/original/file-20220518-19-qhcvzp.png?ixlib=rb-1.1.0&rect=1%2C47%2C1322%2C661&q=45&auto=format&w=1356&h=668&fit=crop\n",
      "try to add image\n",
      "found in cache :  https://images.theconversation.com/files/463997/original/file-20220518-17-a9oezw.jpg?ixlib=rb-1.1.0&rect=0%2C36%2C1020%2C510&q=45&auto=format&w=1356&h=668&fit=crop\n",
      "try to add image\n",
      "found in cache :  https://images.theconversation.com/files/463647/original/file-20220517-14-rd2mgb.jpg?ixlib=rb-1.1.0&rect=51%2C736%2C5720%2C2860&q=45&auto=format&w=1356&h=668&fit=crop\n",
      "try to add image\n",
      "found in cache :  https://images.theconversation.com/files/464534/original/file-20220520-14-xijgj.jpg?ixlib=rb-1.1.0&q=45&auto=format&w=1356&h=668&fit=crop\n",
      "try to add image\n",
      "found in cache :  https://www.monde-diplomatique.fr/IMG/jpg/51N4fFGjZNL-_SX324_BO1_204_203_200_.jpg\n",
      "try to add image\n",
      "found in cache :  https://static.mediapart.fr/etmagine/og/journal/files/2022/05/20/20220520-img-redon-1.jpg\n",
      "try to add image\n",
      "found in cache :  https://heidi-17455.kxcdn.com/photos/b94e081e-5ae6-4a6c-a149-41b977afcaf8/medium\n",
      "try to add image\n",
      "found in cache :  https://static.mediapart.fr/etmagine/og/journal/files/2022/05/22/capture-d-e-cran-2022-05-22-a-15-09-13.png\n",
      "try to add image\n",
      "found in cache :  https://static.mediapart.fr/etmagine/og/journal/files/2022/05/22/000-9mh3my.jpg\n",
      "try to add image\n",
      "found in cache :  https://static.mediapart.fr/etmagine/og/journal/files/2022/05/20/20220523-img-kharkiv-le-difficile-retour-la-vie-2.jpg\n",
      "try to add image\n",
      "found in cache :  https://static.mediapart.fr/etmagine/og/journal/files/2022/05/20/20220520-img-la-haute-commissaire-de-l-onu-pour-les-droits-humains-en-chine-pour-une-visite-hauts-risques-1.jpg\n",
      "try to add image\n",
      "found in cache :  https://heidi-17455.kxcdn.com/photos/7322e9ab-bc96-4c79-a5b7-807f056f18c2/medium\n",
      "try to add image\n",
      "found in cache :  https://static.mediapart.fr/etmagine/og/journal/files/2022/05/20/vita-sackville-west-1926.jpg\n",
      "try to add image\n",
      "found in cache :  https://heidi-17455.kxcdn.com/photos/30a7891a-e443-4d20-a8c6-e5f681ae38ee/medium\n",
      "try to add image\n",
      "found in cache :  https://i.ytimg.com/vi/rt50RVX4lQI/hqdefault.jpg\n",
      "try to add image\n",
      "found in cache :  https://i.ytimg.com/vi/rt50RVX4lQI/hqdefault.jpg\n",
      "try to add image\n",
      "found in cache :  https://api.arretsurimages.net/api/public/media/elon-musk-twitter-et-le-futur-sa-vision-du-futur-est-encore-plus-bizarre-que-ce-que-vous-pensez/action/show?format=thumbnail&t=2022-05-19T18:15:56+02:00\n",
      "try to add image\n",
      "found in cache :  https://static.mediapart.fr/etmagine/og/journal/files/2022/05/13/20210917-img-l-esprit-critique-2.jpg\n",
      "try to add image\n",
      "found in cache :  https://heidi-17455.kxcdn.com/photos/084262af-e936-4eb0-925f-894745a55062/medium\n"
     ]
    }
   ],
   "source": [
    "p = RSC(\"https://raw.githubusercontent.com/nicolasgallandpro/ernestine-data/main/medias_indeps.rsc\")\n",
    "p.fill_rsc() "
   ]
  },
  {
   "cell_type": "code",
   "execution_count": 4,
   "id": "702aa235-05bd-43c0-9708-3669ebf1446e",
   "metadata": {},
   "outputs": [],
   "source": [
    "html = create_page(p, \"/workspace/ernestine2/static_v1/output/index2.html\", show_categories=False)\n",
    "\n",
    "f = open(\"/workspace/ernestine2/static_v1/output/index.json\", \"w\")\n",
    "f.write(p.to_json())\n",
    "f.close()\n",
    "#html_science = create_page(\"https://raw.githubusercontent.com/nicolasgallandpro/ernestine-data/main/science.rsc\", \\\n",
    "#            \"/workspace/ernestine2/static_v1/output/science.html\", show_categories=False)\n",
    "\n",
    "#temp = create_page(\"https://raw.githubusercontent.com/nicolasgallandpro/ernestine-data/main/tribunes.rsc\", \\\n",
    "#            \"/workspace/ernestine2/static_v1/output/tribunes.html\", show_categories=False)\n",
    "\n",
    "#temp = create_page(\"https://raw.githubusercontent.com/nicolasgallandpro/ernestine-data/main/fact_checking.rsc\", \\\n",
    "#            \"/workspace/ernestine2/static_v1/output/fact_checking.html\", show_categories=False)\n"
   ]
  },
  {
   "cell_type": "code",
   "execution_count": 5,
   "id": "983759d3-fc47-4016-9c96-1dc85350c945",
   "metadata": {},
   "outputs": [],
   "source": [
    "#temp = create_page(\"https://raw.githubusercontent.com/nicolasgallandpro/ernestine2/main/input/dataviz.rsc\", \\\n",
    "#            \"/workspace/ernestine2/static_v1/output/dataviz.html\", show_categories=False)\n"
   ]
  },
  {
   "cell_type": "code",
   "execution_count": 6,
   "id": "1ae44a9d-95ee-451c-a848-9aa7a9a9f4d9",
   "metadata": {},
   "outputs": [
    {
     "data": {
      "text/plain": [
       "'ok'"
      ]
     },
     "execution_count": 6,
     "metadata": {},
     "output_type": "execute_result"
    }
   ],
   "source": [
    "import dagstermill, requests\n",
    "requests.get('https://hc-ping.com/56d92aab-b3b4-407c-b854-4c6e2db4b194') #healthchecks.io\n",
    "dagstermill.yield_result(\"ok\")"
   ]
  },
  {
   "cell_type": "code",
   "execution_count": null,
   "id": "16c6e86e-1019-42d8-b40f-d5f8f2b351d0",
   "metadata": {},
   "outputs": [],
   "source": []
  }
 ],
 "metadata": {
  "kernelspec": {
   "display_name": "Python 3 (ipykernel)",
   "language": "python",
   "name": "python3"
  },
  "language_info": {
   "codemirror_mode": {
    "name": "ipython",
    "version": 3
   },
   "file_extension": ".py",
   "mimetype": "text/x-python",
   "name": "python",
   "nbconvert_exporter": "python",
   "pygments_lexer": "ipython3",
   "version": "3.10.2"
  }
 },
 "nbformat": 4,
 "nbformat_minor": 5
}
