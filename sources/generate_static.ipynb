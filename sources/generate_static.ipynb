{
 "cells": [
  {
   "cell_type": "code",
   "execution_count": null,
   "id": "749b4c72-d702-4525-a3c4-8ac68baa6164",
   "metadata": {},
   "outputs": [],
   "source": [
    "!pip install art feedparser redis\n",
    "!pip install beautifulsoup4\n"
   ]
  },
  {
   "cell_type": "code",
   "execution_count": 1,
   "id": "119b7623-cc7b-4bbd-85c1-1dfa45bce282",
   "metadata": {},
   "outputs": [],
   "source": [
    "import sys\n",
    "# insert at 1, 0 is the script path (or '' in REPL)\n",
    "sys.path.insert(1, '/workspace/ernestine2/sources')\n",
    "from rsc import RSC\n",
    "from generate_static import create_page"
   ]
  },
  {
   "cell_type": "code",
   "execution_count": null,
   "id": "b0c7668e-814e-47a2-a3f5-5900bdd63833",
   "metadata": {},
   "outputs": [],
   "source": [
    "p = RSC(\"https://raw.githubusercontent.com/nicolasgallandpro/ernestine-data/main/medias_indeps.rsc\")\n",
    "p.fill_rsc() \n",
    "create_page(rsc_filled=p, basedir='/workspace/ernestine2/static_v1/output/',json=\"index.json\", file='index.html',\n",
    "    title=\"Swartz.news\",\n",
    "    description=\"Les articles, vidéos, et podcasts publiés par + de 35 médias indépendants ces dernières 24 heures\")"
   ]
  },
  {
   "cell_type": "code",
   "execution_count": null,
   "id": "702aa235-05bd-43c0-9708-3669ebf1446e",
   "metadata": {},
   "outputs": [],
   "source": [
    "\n",
    "p = RSC(\"https://raw.githubusercontent.com/nicolasgallandpro/ernestine-data/main/science.rsc\")\n",
    "p.fill_rsc() \n",
    "create_page(rsc_filled=p, basedir='/workspace/ernestine2/static_v1/output/',json=\"science.json\", file='science.html',\n",
    "    title=\"Sciences\",\n",
    "    description=\"Les articles, vidéos, et podcasts Science (sciences dures et sciences sociales) de ces dernières 24 heures\")\n",
    "\n",
    "#temp = create_page(\"https://raw.githubusercontent.com/nicolasgallandpro/ernestine-data/main/fact_checking.rsc\", \\\n",
    "#            \"/workspace/ernestine2/static_v1/output/fact_checking.html\", show_categories=False)\n"
   ]
  },
  {
   "cell_type": "code",
   "execution_count": 8,
   "id": "b4e6228c-f411-4513-9e99-c07468f8f8fb",
   "metadata": {},
   "outputs": [
    {
     "name": "stdout",
     "output_type": "stream",
     "text": [
      "inputinput https://www.lemonde.fr/idees-tribunes/rss_full.xml\n",
      "input https://www.youtube.com/channel/UCQgWpmt02UtJkyO32HGUASQ\n",
      " googlenews-fr-fr: tribune\n",
      "try to add image\n",
      "found in cache :  https://www.lfp.fr:443/-/media/Project/LFP/LFP/Images/Articles-Assests/12,-d-,TEMPLATE,-d-,COVER/Template_Cover_4.png\n",
      "try to add image\n",
      "found in cache :  \n",
      "try to add image\n",
      "found in cache :  https://cdn-lejdd.lanmedia.fr/var/europe1/storage/images/lejdd/ecologie/tribune-faisons-de-la-preservation-de-nos-poissons-migrateurs-une-urgence-nationale-4113491/58624915-1-fre-FR/Tribune.-Faisons-de-la-preservation-de-nos-poissons-migrateurs-une-urgence-nationale.jpg\n",
      "try to add image\n",
      "found in cache :  https://www.letelegramme.fr/images/2022/05/24/christian-coail-president-du-departement-des-cotes-d-armor_6497158_1000x526.jpg?v=1\n",
      "try to add image\n",
      "found in cache :  https://lepetitjournal.com/sites/default/files/styles/main_article/public/2022-05/tribune%20NUPES.png?itok=lm7NRhMw\n",
      "try to add image\n",
      "found in cache :  https://img.relationclientmag.fr/Img/BREVE/2022/5/372182/Tribune-Experience-voix-citoyen-Service-public-une-F.jpg\n",
      "try to add image\n",
      "found in cache :  https://ds.static.rtbf.be/article/image/1920x1080/9/4/5/759b2918d6b922204f813def3192a051-1653339955.png\n",
      "try to add image\n",
      "found in cache :  https://img.lemde.fr/2022/05/24/0/0/5500/3666/1440/960/60/0/061b7b4_1653381647609-gtfrtde.jpg\n",
      "try to add image\n",
      "found in cache :  https://static.timesofisrael.com/fr/uploads/2022/05/F220523YS287-1024x640.jpg\n",
      "try to add image\n",
      "found in cache :  https://img.lemde.fr/2022/05/23/0/11/5293/3529/1440/960/60/0/62fa9ac_1653317249279-pns-3444173.jpg\n",
      "try to add image\n",
      "found in cache :  https://burkina24.com/wp-content/uploads/2017/05/Salifou-Nebié.jpg\n",
      "try to add image\n",
      "found in cache :  https://www.alliancy.fr/wp-content/uploads/2022/05/emmanuel-schupp-directeur-general-chez-avaya-france.png\n",
      "try to add image\n",
      "found in cache :  https://reporterre.net/local/cache-gd2/33/4a4690d98d0bf988e3d57a7f028445.jpg?1653034539\n",
      "try to add image\n",
      "found in cache :  https://img.lemde.fr/2022/05/09/0/74/4852/3235/1440/960/60/0/01fd695_5137831-01-06.jpg\n",
      "try to add image\n",
      "found in cache :  https://img.lemde.fr/2022/05/19/0/0/5788/3858/1440/960/60/0/1d0dc58_5228639-01-07.jpg\n",
      "try to add image\n",
      "found in cache :  https://img.lemde.fr/2022/05/23/4/0/5976/3984/1440/960/60/0/e77d367_1653311511421-007-monde-ecole-europeenne-chauvin-autres-hd-22.jpeg\n",
      "try to add image\n",
      "found in cache :  https://www.letelegramme.fr/images/2022/05/23/tribune-david-lappartient-la-gauche-qui-a-fait-allegeance-a_6493521_1000x526.jpg?v=1\n",
      "try to add image\n",
      "found in cache :  https://img.lemde.fr/2022/05/23/1/0/5751/3834/1440/960/60/0/e3e407c_1653309505619-588110.jpg\n",
      "try to add image\n",
      "found in cache :  https://www.e-marketing.fr/Assets/Img/BREVE/2022/5/372271/laptop-with-Google-Chrome-browser-remove-history-cookies-other-browsing-F.jpg\n"
     ]
    }
   ],
   "source": [
    "p = RSC(\"https://raw.githubusercontent.com/nicolasgallandpro/ernestine-data/main/tribunes.rsc\")\n",
    "p.fill_rsc() \n",
    "create_page(rsc_filled=p, basedir='/workspace/ernestine2/static_v1/output/',json=\"tribunes.json\", file='tribunes.html',\n",
    "    title=\"Tribunes\",\n",
    "    description=\"Les tribunes de ces dernières 24 heures\")"
   ]
  },
  {
   "cell_type": "code",
   "execution_count": 5,
   "id": "8b30cd65-1ddc-467e-ab60-90e0019f26c7",
   "metadata": {},
   "outputs": [
    {
     "name": "stdout",
     "output_type": "stream",
     "text": [
      "input https://www.lemonde.fr/les-decodeurs/rss_full.xml\n",
      "input https://www.liberation.fr/arc/outboundfeeds/collection/accueil-une/?outputType=xml\n",
      "input https://lessurligneurs.eu/feed/\n",
      "input https://www.rtl.fr/podcast/fact-checking.xml\n",
      "input http://radiofrance-podcast.net/podcast09/rss_12249.xml\n",
      "input https://www.youtube.com/channel/UCRAbwEqGDnUBt_gPOkplGBA/videos\n",
      "input https://www.youtube.com/channel/UCU0FhLr6fr7U9GOn6OiQHpQ\n",
      "input https://www.youtube.com/playlist?list=PL3t1ytKnk4hVrv2H-rTSPnySNdqr2CuXL\n",
      "try to add image\n",
      "https://i.ytimg.com/vi/KbF6erEM29Y/maxresdefault.jpg found for https://www.youtube.com/watch?v=KbF6erEM29Y\n",
      "try to add image\n",
      "https://img.lemde.fr/2022/05/05/0/0/2100/1400/1440/960/60/0/d568d37_1651741778092-assemblee-nationale.jpg found for https://www.lemonde.fr/les-decodeurs/article/2022/05/24/legislatives-2022-decouvrez-la-liste-officielle-des-candidats-aux-elections-dans-votre-circonscription_6125806_4355774.html\n",
      "try to add image\n",
      "https://www.lessurligneurs.eu/wp-content/uploads/money-eu.png found for https://www.lessurligneurs.eu/la-nupes-souhaite-suspendre-les-financements-europeens-des-etats-membres-qui-ne-respectent-pas-letat-de-droit-ou-les-libertes-fondamentales/\n",
      "try to add image\n",
      "https://www.francetvinfo.fr/pictures/B8ty-T38bs9AVsf6IhxVYGj5rZM/1500x843/2022/05/24/phpAFTnzV.jpg found for https://www.francetvinfo.fr/replay-radio/le-vrai-du-faux/les-loyers-vont-ils-augmenter-a-cause-de-l-inflation-comme-l-affirme-la-fondation-abbe-pierre_5128129.html\n",
      "try to add image\n",
      "https://img.lemde.fr/2022/05/19/7/0/1088/725/1440/960/60/0/ff38d23_1652973679094-capture-d-e-cran-2022-05-19-a-16-50-10.png found for https://www.lemonde.fr/les-decodeurs/article/2022/05/24/nombre-d-habitants-ou-d-inscrits-taux-de-chomage-age-moyen-de-fortes-disparites-entre-les-577-circonscriptions-legislatives_6127403_4355770.html\n",
      "try to add image\n",
      "https://www.francetvinfo.fr/pictures/cEdGD7yN668_yWEbTEydPB4Pn8M/1500x843/2022/05/23/php4BS8KX.jpg found for https://www.francetvinfo.fr/replay-radio/le-vrai-du-faux/les-personnes-payees-au-smic-sont-elles-a-62-des-femmes-comme-l-affirme-laurence-rossignol_5126665.html\n"
     ]
    }
   ],
   "source": [
    "p = RSC(\"https://raw.githubusercontent.com/nicolasgallandpro/ernestine-data/main/fact_checking.rsc\")\n",
    "p.fill_rsc() \n",
    "create_page(rsc_filled=p, basedir='/workspace/ernestine2/static_v1/output/',json=\"fact-checking.json\", file='fact-checking.html',\n",
    "    title=\"Fact-checking\",\n",
    "    description=\"Le fact-checking de ces dernières 24 heures\")"
   ]
  },
  {
   "cell_type": "code",
   "execution_count": 6,
   "id": "bca1face-70ef-4365-ad22-abb8a3583c09",
   "metadata": {},
   "outputs": [
    {
     "name": "stderr",
     "output_type": "stream",
     "text": [
      "ERROR:root:googlenewsen: data artist:Unexpected Exception Traceback (most recent call last):\n",
      "  File \"/workspace/ernestine2/sources/entries.py\", line 107, in retrieve_inputs\n",
      "    inpu, res = future.result()\n",
      "  File \"/usr/local/lib/python3.10/concurrent/futures/_base.py\", line 439, in result\n",
      "    return self.__get_result()\n",
      "  File \"/usr/local/lib/python3.10/concurrent/futures/_base.py\", line 391, in __get_result\n",
      "    raise self._exception\n",
      "  File \"/usr/local/lib/python3.10/concurrent/futures/thread.py\", line 58, in run\n",
      "    result = self.fn(*self.args, **self.kwargs)\n",
      "  File \"/workspace/ernestine2/sources/entries.py\", line 126, in retrieve_input\n",
      "    (tmp, lang, country) = ('', 'en', 'en') if country=='googlenews' else country.split('-')\n",
      "ValueError: not enough values to unpack (expected 3, got 1)\n",
      "\n"
     ]
    },
    {
     "name": "stdout",
     "output_type": "stream",
     "text": [
      "input https://whatsnewinpublishing.com/feed/\n",
      "input https://datajournalism.com/read/rss/longreads.xml\n",
      "inputinput  googlenewsen: data artist\n",
      "https://medium.com/feed/tag/data-visualization\n",
      "inputinput https://flowingdata.com/feed\n",
      "input https://blog.datawrapper.de/feed/\n",
      "input  https://medium.com/feed/nightingalehttps://anchor.fm/s/47aac444/podcast/rss\n",
      "\n",
      "try to add image\n",
      "found in cache :  https://miro.medium.com/max/1200/1*Wt0CLsfwxdVnyv27ZUa8rw.jpeg\n",
      "try to add image\n",
      "found in cache :  https://miro.medium.com/max/1068/0*OaDWIL1JbmD-mPkN\n",
      "try to add image\n",
      "found in cache :  https://miro.medium.com/max/1200/0*O_mcOy9G8OqogRff\n",
      "try to add image\n",
      "found in cache :  https://miro.medium.com/max/1000/1*DaFZf5yc9YlJs8LXDm85hA.png\n",
      "try to add image\n",
      "found in cache :  https://flowingdata.com/wp-content/uploads/2022/05/shrinking-war.png\n",
      "try to add image\n",
      "found in cache :  https://miro.medium.com/max/1200/1*YdxaO95tJMmtTfiQZyCI7Q.png\n",
      "try to add image\n",
      "found in cache :  https://blog.datawrapper.de/wp-content/uploads/2022/05/datavisdispatch-featureimage1-1024x512.png\n",
      "try to add image\n",
      "found in cache :  https://miro.medium.com/max/1200/1*teszPdOBtBklIszRn7KBIA.png\n",
      "try to add image\n",
      "found in cache :  https://miro.medium.com/max/1200/1*btCo0Yjnx2Txd0amj1QoOw.png\n",
      "try to add image\n",
      "found in cache :  https://miro.medium.com/max/1200/1*I_NzyTPJZYmSEwsjiS1Uwg.png\n",
      "try to add image\n",
      "found in cache :  https://miro.medium.com/freeze/max/912/1*rWDKVQFHFoB0HmhP98pT1Q.gif\n",
      "try to add image\n",
      "found in cache :  https://miro.medium.com/max/1200/1*RX5HU3xUBWB7T6gyzQQpTQ.png\n",
      "try to add image\n",
      "found in cache :  https://flowingdata.com/wp-content/uploads/2022/05/Cindermedusae.jpg\n",
      "try to add image\n",
      "found in cache :  https://flowingdata.com/wp-content/uploads/2022/05/lives-cut-short-by-covid.png\n",
      "try to add image\n",
      "found in cache :  https://flowingdata.com/wp-content/uploads/2022/05/process-189-featured.png\n",
      "try to add image\n",
      "found in cache :  https://flowingdata.com/wp-content/uploads/2022/05/nuclear-winter.png\n",
      "try to add image\n",
      "found in cache :  https://flowingdata.com/wp-content/uploads/2014/10/logo-lone-square-600-5451c585_site_icon.png\n",
      "try to add image\n",
      "found in cache :  https://flowingdata.com/wp-content/uploads/2022/05/Leonardo-color.png\n",
      "try to add image\n",
      "found in cache :  https://blog.datawrapper.de/wp-content/uploads/2022/05/Stop_Abortion_Bans_Rally_in_St_Paul_Minnesota_edit.jpg\n",
      "try to add image\n",
      "found in cache :  https://flowingdata.com/wp-content/uploads/2022/05/covid-death-1-million.png\n",
      "try to add image\n",
      "found in cache :  https://s3.eu-central-1.amazonaws.com/datajournalismcom/long-reads/_1200x630_crop_center-center_82_none/Captura-de-pantalla-2022-05-18-a-las-9.05.25.png?mtime=1652857566\n"
     ]
    }
   ],
   "source": [
    "p = RSC(\"https://raw.githubusercontent.com/nicolasgallandpro/ernestine2/main/input/dataviz.rsc\")\n",
    "p.fill_rsc() \n",
    "create_page(rsc_filled=p, basedir='/workspace/ernestine2/static_v1/output/',json=\"dataviz.json\", file='dataviz.html',\n",
    "    title=\"Dataviz\",\n",
    "    description=\"Le dataviz de ces dernières 24 heures\")"
   ]
  },
  {
   "cell_type": "code",
   "execution_count": null,
   "id": "983759d3-fc47-4016-9c96-1dc85350c945",
   "metadata": {},
   "outputs": [],
   "source": [
    "#temp = create_page(\"https://raw.githubusercontent.com/nicolasgallandpro/ernestine2/main/input/dataviz.rsc\", \\\n",
    "#            \"/workspace/ernestine2/static_v1/output/dataviz.html\", show_categories=False)\n"
   ]
  },
  {
   "cell_type": "code",
   "execution_count": null,
   "id": "1ae44a9d-95ee-451c-a848-9aa7a9a9f4d9",
   "metadata": {},
   "outputs": [],
   "source": [
    "import dagstermill, requests\n",
    "requests.get('https://hc-ping.com/56d92aab-b3b4-407c-b854-4c6e2db4b194') #healthchecks.io\n",
    "dagstermill.yield_result(\"ok\")"
   ]
  },
  {
   "cell_type": "code",
   "execution_count": null,
   "id": "16c6e86e-1019-42d8-b40f-d5f8f2b351d0",
   "metadata": {},
   "outputs": [],
   "source": []
  }
 ],
 "metadata": {
  "kernelspec": {
   "display_name": "Python 3 (ipykernel)",
   "language": "python",
   "name": "python3"
  },
  "language_info": {
   "codemirror_mode": {
    "name": "ipython",
    "version": 3
   },
   "file_extension": ".py",
   "mimetype": "text/x-python",
   "name": "python",
   "nbconvert_exporter": "python",
   "pygments_lexer": "ipython3",
   "version": "3.10.2"
  }
 },
 "nbformat": 4,
 "nbformat_minor": 5
}
